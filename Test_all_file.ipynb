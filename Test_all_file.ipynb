{
 "cells": [
  {
   "cell_type": "code",
   "execution_count": 8,
   "metadata": {},
   "outputs": [],
   "source": [
    "import os\n",
    "import zipfile\n",
    "import pandas as pd\n",
    "import pyarrow.parquet as pq\n",
    "import pyarrow as pa\n",
    "import tempfile\n",
    "import shutil\n",
    "import re"
   ]
  },
  {
   "cell_type": "code",
   "execution_count": 9,
   "metadata": {},
   "outputs": [],
   "source": [
    "# Define paths\n",
    "base_zip_path = r\"D:\\Morescope\\Satellite data-20240806T085324Z-001.zip\"\n",
    "temp_dir = tempfile.mkdtemp()\n",
    "final_zip_path = r\"D:\\Morescope\\Processed_Parquet_Files.zip\""
   ]
  },
  {
   "cell_type": "code",
   "execution_count": 10,
   "metadata": {},
   "outputs": [],
   "source": [
    "\n",
    "# Define the naming convention regex\n",
    "csv_regex = re.compile(r\"20231117_120secMother_AllCountries_002_TQ-Results_\\d{4}_059_Markup001\\(full\\)\\.csv\")\n"
   ]
  },
  {
   "cell_type": "code",
   "execution_count": 11,
   "metadata": {},
   "outputs": [],
   "source": [
    "def extract_zip(zip_path, extract_to):\n",
    "    \"\"\"Extract a ZIP file to a specified directory.\"\"\"\n",
    "    with zipfile.ZipFile(zip_path, 'r') as zip_ref:\n",
    "        zip_ref.extractall(extract_to)\n",
    "        return zip_ref.namelist()\n",
    "\n",
    "# Extract the main ZIP file\n",
    "extracted_main_dir = os.path.join(temp_dir, 'Satellite data')\n",
    "os.makedirs(extracted_main_dir, exist_ok=True)\n",
    "extracted_files = extract_zip(base_zip_path, extracted_main_dir)"
   ]
  },
  {
   "cell_type": "code",
   "execution_count": 12,
   "metadata": {},
   "outputs": [],
   "source": [
    "\n",
    "# Process each inner ZIP file\n",
    "parquet_paths = []\n",
    "for inner_zip_name in extracted_files:\n",
    "    inner_zip_path = os.path.join(extracted_main_dir, inner_zip_name)\n",
    "    \n",
    "    # Extract the inner ZIP file\n",
    "    with zipfile.ZipFile(inner_zip_path, 'r') as inner_zip_ref:\n",
    "        inner_zip_dir = os.path.join(temp_dir, 'inner_zip')\n",
    "        os.makedirs(inner_zip_dir, exist_ok=True)\n",
    "        inner_zip_ref.extractall(inner_zip_dir)\n",
    "        \n",
    "        # Filter and process CSV files\n",
    "        for file_name in os.listdir(inner_zip_dir):\n",
    "            if csv_regex.match(file_name):\n",
    "                file_path = os.path.join(inner_zip_dir, file_name)\n",
    "                \n",
    "                # Read CSV file into DataFrame\n",
    "                df = pd.read_csv(file_path)\n",
    "                \n",
    "                # Convert DataFrame to Parquet format\n",
    "                parquet_path = file_path.replace('.csv', '.parquet')\n",
    "                table = pa.Table.from_pandas(df)\n",
    "                pq.write_table(table, parquet_path)\n",
    "                parquet_paths.append(parquet_path)\n",
    "                \n",
    "                # Remove the CSV file to save space\n",
    "                os.remove(file_path)\n",
    "        \n",
    "        # Clean up inner zip directory\n",
    "        shutil.rmtree(inner_zip_dir)"
   ]
  },
  {
   "cell_type": "code",
   "execution_count": 14,
   "metadata": {},
   "outputs": [
    {
     "ename": "FileNotFoundError",
     "evalue": "[WinError 3] The system cannot find the path specified: 'C:\\\\Users\\\\ROG\\\\AppData\\\\Local\\\\Temp\\\\tmp_3_5z_j0\\\\inner_zip\\\\20231117_120secMother_AllCountries_002_TQ-Results_2011_059_Markup001(full).parquet'",
     "output_type": "error",
     "traceback": [
      "\u001b[1;31m---------------------------------------------------------------------------\u001b[0m",
      "\u001b[1;31mFileNotFoundError\u001b[0m                         Traceback (most recent call last)",
      "Cell \u001b[1;32mIn[14], line 5\u001b[0m\n\u001b[0;32m      3\u001b[0m \u001b[38;5;28;01mfor\u001b[39;00m parquet_path \u001b[38;5;129;01min\u001b[39;00m parquet_paths:\n\u001b[0;32m      4\u001b[0m     arcname \u001b[38;5;241m=\u001b[39m os\u001b[38;5;241m.\u001b[39mpath\u001b[38;5;241m.\u001b[39mbasename(parquet_path)\n\u001b[1;32m----> 5\u001b[0m     \u001b[43mzipf\u001b[49m\u001b[38;5;241;43m.\u001b[39;49m\u001b[43mwrite\u001b[49m\u001b[43m(\u001b[49m\u001b[43mparquet_path\u001b[49m\u001b[43m,\u001b[49m\u001b[43m \u001b[49m\u001b[43marcname\u001b[49m\u001b[38;5;241;43m=\u001b[39;49m\u001b[43marcname\u001b[49m\u001b[43m)\u001b[49m\n\u001b[0;32m      6\u001b[0m     os\u001b[38;5;241m.\u001b[39mremove(parquet_path)\n",
      "File \u001b[1;32mC:\\Python312\\Lib\\zipfile\\__init__.py:1817\u001b[0m, in \u001b[0;36mZipFile.write\u001b[1;34m(self, filename, arcname, compress_type, compresslevel)\u001b[0m\n\u001b[0;32m   1812\u001b[0m \u001b[38;5;28;01mif\u001b[39;00m \u001b[38;5;28mself\u001b[39m\u001b[38;5;241m.\u001b[39m_writing:\n\u001b[0;32m   1813\u001b[0m     \u001b[38;5;28;01mraise\u001b[39;00m \u001b[38;5;167;01mValueError\u001b[39;00m(\n\u001b[0;32m   1814\u001b[0m         \u001b[38;5;124m\"\u001b[39m\u001b[38;5;124mCan\u001b[39m\u001b[38;5;124m'\u001b[39m\u001b[38;5;124mt write to ZIP archive while an open writing handle exists\u001b[39m\u001b[38;5;124m\"\u001b[39m\n\u001b[0;32m   1815\u001b[0m     )\n\u001b[1;32m-> 1817\u001b[0m zinfo \u001b[38;5;241m=\u001b[39m \u001b[43mZipInfo\u001b[49m\u001b[38;5;241;43m.\u001b[39;49m\u001b[43mfrom_file\u001b[49m\u001b[43m(\u001b[49m\u001b[43mfilename\u001b[49m\u001b[43m,\u001b[49m\u001b[43m \u001b[49m\u001b[43marcname\u001b[49m\u001b[43m,\u001b[49m\n\u001b[0;32m   1818\u001b[0m \u001b[43m                          \u001b[49m\u001b[43mstrict_timestamps\u001b[49m\u001b[38;5;241;43m=\u001b[39;49m\u001b[38;5;28;43mself\u001b[39;49m\u001b[38;5;241;43m.\u001b[39;49m\u001b[43m_strict_timestamps\u001b[49m\u001b[43m)\u001b[49m\n\u001b[0;32m   1820\u001b[0m \u001b[38;5;28;01mif\u001b[39;00m zinfo\u001b[38;5;241m.\u001b[39mis_dir():\n\u001b[0;32m   1821\u001b[0m     zinfo\u001b[38;5;241m.\u001b[39mcompress_size \u001b[38;5;241m=\u001b[39m \u001b[38;5;241m0\u001b[39m\n",
      "File \u001b[1;32mC:\\Python312\\Lib\\zipfile\\__init__.py:554\u001b[0m, in \u001b[0;36mZipInfo.from_file\u001b[1;34m(cls, filename, arcname, strict_timestamps)\u001b[0m\n\u001b[0;32m    552\u001b[0m \u001b[38;5;28;01mif\u001b[39;00m \u001b[38;5;28misinstance\u001b[39m(filename, os\u001b[38;5;241m.\u001b[39mPathLike):\n\u001b[0;32m    553\u001b[0m     filename \u001b[38;5;241m=\u001b[39m os\u001b[38;5;241m.\u001b[39mfspath(filename)\n\u001b[1;32m--> 554\u001b[0m st \u001b[38;5;241m=\u001b[39m \u001b[43mos\u001b[49m\u001b[38;5;241;43m.\u001b[39;49m\u001b[43mstat\u001b[49m\u001b[43m(\u001b[49m\u001b[43mfilename\u001b[49m\u001b[43m)\u001b[49m\n\u001b[0;32m    555\u001b[0m isdir \u001b[38;5;241m=\u001b[39m stat\u001b[38;5;241m.\u001b[39mS_ISDIR(st\u001b[38;5;241m.\u001b[39mst_mode)\n\u001b[0;32m    556\u001b[0m mtime \u001b[38;5;241m=\u001b[39m time\u001b[38;5;241m.\u001b[39mlocaltime(st\u001b[38;5;241m.\u001b[39mst_mtime)\n",
      "\u001b[1;31mFileNotFoundError\u001b[0m: [WinError 3] The system cannot find the path specified: 'C:\\\\Users\\\\ROG\\\\AppData\\\\Local\\\\Temp\\\\tmp_3_5z_j0\\\\inner_zip\\\\20231117_120secMother_AllCountries_002_TQ-Results_2011_059_Markup001(full).parquet'"
     ]
    }
   ],
   "source": [
    "\n",
    "# Zip all Parquet files into a new ZIP file\n",
    "with zipfile.ZipFile(final_zip_path, 'w', zipfile.ZIP_DEFLATED) as zipf:\n",
    "    for parquet_path in parquet_paths:\n",
    "        arcname = os.path.basename(parquet_path)\n",
    "        zipf.write(parquet_path, arcname=arcname)\n",
    "        os.remove(parquet_path)"
   ]
  },
  {
   "cell_type": "code",
   "execution_count": null,
   "metadata": {},
   "outputs": [],
   "source": [
    "\n",
    "# Clean up the temporary directory\n",
    "shutil.rmtree(temp_dir)"
   ]
  }
 ],
 "metadata": {
  "kernelspec": {
   "display_name": "sat-env",
   "language": "python",
   "name": "python3"
  },
  "language_info": {
   "codemirror_mode": {
    "name": "ipython",
    "version": 3
   },
   "file_extension": ".py",
   "mimetype": "text/x-python",
   "name": "python",
   "nbconvert_exporter": "python",
   "pygments_lexer": "ipython3",
   "version": "3.12.0"
  }
 },
 "nbformat": 4,
 "nbformat_minor": 2
}
