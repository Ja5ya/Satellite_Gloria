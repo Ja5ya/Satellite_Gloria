{
 "cells": [
  {
   "cell_type": "code",
   "execution_count": null,
   "metadata": {
    "vscode": {
     "languageId": "r"
    }
   },
   "outputs": [],
   "source": [
    "# This R script automates the process of converting large CSV files from a ZIP archive into \n",
    "# the Parquet format for more efficient storage and querying. It extracts CSVs, converts them,\n",
    "# and repackages the Parquet files into a new ZIP file, enhancing data portability and \n",
    "# performance. The script uses local directories for speed, cleans up resources after processing, \n",
    "# and ensures compatibility across systems by adjusting file paths.\n",
    "\n",
    "# Load necessary libraries\n",
    "library(data.table)\n",
    "library(arrow)\n",
    "library(zip)\n"
   ]
  },
  {
   "cell_type": "code",
   "execution_count": 4,
   "metadata": {
    "vscode": {
     "languageId": "r"
    }
   },
   "outputs": [
    {
     "name": "stderr",
     "output_type": "stream",
     "text": [
      "Warning message in dir.create(temp_dir):\n",
      "\"'C:\\Users\\Ulf\\AppData\\Local\\Temp\\Rtmp6PfGFW' already exists\"\n"
     ]
    },
    {
     "name": "stdout",
     "output_type": "stream",
     "text": [
      "  |======================================================================| 100%\n",
      "[1] \"C:/Users/Ulf/AppData/Local/Temp/Rtmp6PfGFW\"\n",
      "Listing Parquet files:\n",
      " [1] \"./20240110_120secMother_AllCountries_002_T-Results_2022_059_Markup001(full).parquet\"\n",
      " [2] \"./20240110_120secMother_AllCountries_002_T-Results_2022_059_Markup002(full).parquet\"\n",
      " [3] \"./20240110_120secMother_AllCountries_002_T-Results_2022_059_Markup003(full).parquet\"\n",
      " [4] \"./20240110_120secMother_AllCountries_002_T-Results_2022_059_Markup004(full).parquet\"\n",
      " [5] \"./20240110_120secMother_AllCountries_002_T-Results_2022_059_Markup005(full).parquet\"\n",
      " [6] \"./20240110_120secMother_AllCountries_002_V-Results_2022_059_Markup001(full).parquet\"\n",
      " [7] \"./20240110_120secMother_AllCountries_002_Y-Results_2022_059_Markup001(full).parquet\"\n",
      " [8] \"./20240110_120secMother_AllCountries_002_Y-Results_2022_059_Markup002(full).parquet\"\n",
      " [9] \"./20240110_120secMother_AllCountries_002_Y-Results_2022_059_Markup003(full).parquet\"\n",
      "[10] \"./20240110_120secMother_AllCountries_002_Y-Results_2022_059_Markup004(full).parquet\"\n",
      "[11] \"./20240110_120secMother_AllCountries_002_Y-Results_2022_059_Markup005(full).parquet\"\n",
      "All Parquet files have been processed and zipped into:  C:/Users/Ulf/Downloads/GLORIA_MRIOs_59_2022_parquet.zip \n"
     ]
    }
   ],
   "source": [
    "\n",
    "# Define the path to the zip file and output paths # use a local path in order to make the file to run fast\n",
    "zip_path <- \"C:/Users/Ulf/Downloads/GLORIA_MRIOs_59_2022.zip\"\n",
    "#zip_path <- \"G:/Shared drives/MoreScope Team Folder/30 Technology/MRIO/GLORIA/Version 59/GLORIA_MRIOs_59_2022.zip\"\n",
    "#zip_path <- \"G:/Shared drives/MoreScope Team Folder/30 Technology/MRIO/GLORIA/Version 59/my_zipped_file.zip\"\n",
    "\n",
    "temp_dir <- tempdir()  # Using the system's temporary directory\n",
    "new_zip_path <- sub(\"\\\\.zip$\", \"_parquet.zip\", zip_path)  # Destination path for new zip\n",
    "\n",
    "# Ensure the temporary directory is clean\n",
    "if (length(list.files(temp_dir)) > 0) {\n",
    "    unlink(temp_dir, recursive = TRUE)  # Remove existing files if any\n",
    "}\n",
    "dir.create(temp_dir)\n",
    "\n",
    "# List contents of the ZIP file using the zip package\n",
    "files_to_extract <- zip_list(zip_path)\n",
    "\n",
    "# Check if there are files to process\n",
    "if (is.null(files_to_extract) || nrow(files_to_extract) == 0) {\n",
    "    cat(\"No files to process. Check the zip archive and path.\\n\")\n",
    "    return()  # Exit the function or script if no files to process\n",
    "}\n",
    "\n",
    "# Initialize progress bar\n",
    "pb <- txtProgressBar(min = 0, max = nrow(files_to_extract), style = 3)\n",
    "\n",
    "# Store all parquet paths for later zipping\n",
    "parquet_paths <- character()\n",
    "\n",
    "# Process each file sequentially\n",
    "for (i in seq_len(nrow(files_to_extract))) {\n",
    "    file_name <- files_to_extract$filename[i]\n",
    "    \n",
    "    # Unzip only the current file\n",
    "    unzip(zip_path, files = file_name, exdir = temp_dir)\n",
    "    \n",
    "    # Full path for the extracted file\n",
    "    file_path <- file.path(temp_dir, file_name)\n",
    "    \n",
    "    # Read the CSV file\n",
    "    data <- fread(file_path)\n",
    "    \n",
    "    # Convert to Parquet and save it temporarily\n",
    "    parquet_path <- sub(\"\\\\.csv$\", \".parquet\", file_path)\n",
    "    write_parquet(as.data.frame(data), parquet_path)\n",
    "    parquet_paths <- c(parquet_paths, parquet_path)\n",
    "    \n",
    "    # Clear data from memory and run garbage collector\n",
    "    rm(data)\n",
    "    gc()\n",
    "    \n",
    "    # Update the progress bar\n",
    "    setTxtProgressBar(pb, i)\n",
    "}\n",
    "\n",
    "# Close the progress bar\n",
    "close(pb)\n",
    "\n",
    "# Zip all the parquet files together at the end\n",
    "# Change to the temporary directory to ensure all operations are localized\n",
    "setwd(temp_dir)\n",
    "\n",
    "# Confirm current directory (to ensure the script operates in the correct directory)\n",
    "print(getwd())\n",
    "\n",
    "# List all Parquet files in the current directory\n",
    "parquet_files <- list.files(pattern = \"\\\\.parquet$\", full.names = TRUE)\n",
    "\n",
    "# Check if any Parquet files were found\n",
    "if (length(parquet_files) == 0) {\n",
    "    cat(\"No parquet files found in the directory.\\n\")\n",
    "} else {\n",
    "    # Print out the names of the files to be zipped\n",
    "    cat(\"Listing Parquet files:\\n\")\n",
    "    print(parquet_files)\n",
    "\n",
    "    # Remove './' prefix if present to ensure compatibility with Windows\n",
    "    parquet_files <- gsub(\"^\\\\./\", \"\", parquet_files)\n",
    "\n",
    "    # Zip all the Parquet files into a new zip file\n",
    "    zip(zipfile = new_zip_path, files = parquet_files)\n",
    "\n",
    "    cat(\"All Parquet files have been processed and zipped into: \", new_zip_path, \"\\n\")\n",
    "}\n"
   ]
  }
 ],
 "metadata": {
  "kernelspec": {
   "display_name": "R",
   "language": "R",
   "name": "ir"
  },
  "language_info": {
   "codemirror_mode": "r",
   "file_extension": ".r",
   "mimetype": "text/x-r-source",
   "name": "R",
   "pygments_lexer": "r",
   "version": "4.4.1"
  }
 },
 "nbformat": 4,
 "nbformat_minor": 2
}
